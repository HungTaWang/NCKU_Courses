{
  "nbformat": 4,
  "nbformat_minor": 0,
  "metadata": {
    "colab": {
      "name": "H14086179_Week15.ipynb",
      "provenance": [],
      "collapsed_sections": []
    },
    "kernelspec": {
      "name": "python3",
      "display_name": "Python 3"
    },
    "language_info": {
      "name": "python"
    }
  },
  "cells": [
    {
      "cell_type": "code",
      "execution_count": 20,
      "metadata": {
        "colab": {
          "base_uri": "https://localhost:8080/"
        },
        "id": "95vu1KbolmS0",
        "outputId": "3731032a-c40b-4f07-805a-ee6c39eb61be"
      },
      "outputs": [
        {
          "output_type": "stream",
          "name": "stdout",
          "text": [
            "Overwriting W15S.cpp\n"
          ]
        }
      ],
      "source": [
        "%%writefile W15S.cpp\n",
        "#include<cstdlib>\n",
        "#include<ctime>\n",
        "#include<iostream>\n",
        "using namespace std;\n",
        "\n",
        "int main(){\n",
        "    srand(time(0));\n",
        "    int Pool[10] = {0, 0, 0, 0, 0, 0, 0, 0, 0, 1};\n",
        "    int Lottery = -1;\n",
        "    int Winning = 0;\n",
        "    double a = 0;\n",
        "    double b = 0;\n",
        "    double c = 0;\n",
        "    double d = 0;\n",
        "\n",
        "    for(int i=1;i<=10000000;i++){\n",
        "        Winning = 0;\n",
        "        for(int j=1;j<=471;j++){\n",
        "            Lottery = rand()%10;\n",
        "            if(Pool[Lottery] == 1){\n",
        "                Winning++;\n",
        "            }\n",
        "        }\n",
        "        if(Winning>30 and Winning<=40){\n",
        "            a++;\n",
        "        }\n",
        "        else if(Winning>20 and Winning<=30){\n",
        "            b++;\n",
        "        }    \n",
        "        else if(Winning>11 and Winning<=20){\n",
        "            c++;\n",
        "        }    \n",
        "        else if(Winning<=11){\n",
        "            d++;\n",
        "        }\n",
        "\n",
        "         \n",
        "    }\n",
        "\n",
        "    cout << \"The estimated prob. of winning <= 40 items: \" << a/10000000 << endl;\n",
        "    cout << \"The estimated prob. of winning <= 30 items: \" << b/10000000 << endl;\n",
        "    cout << \"The estimated prob. of winning <= 20 items: \" << c/10000000 << endl;\n",
        "    cout << \"The estimated prob. of being unlucky as the streamer (<= 11 items): \" << d/10000000 << endl;\n",
        "\n",
        "    return 0;\n",
        "}\n"
      ]
    },
    {
      "cell_type": "code",
      "source": [
        "%%shell \n",
        "g++ W15S.cpp -o W15S\n",
        "./W15S"
      ],
      "metadata": {
        "colab": {
          "base_uri": "https://localhost:8080/"
        },
        "id": "P4mKOINfoqgN",
        "outputId": "573ce48a-5e77-4d7f-d7b7-047e4adb3bc3"
      },
      "execution_count": 21,
      "outputs": [
        {
          "output_type": "stream",
          "name": "stdout",
          "text": [
            "The estimated prob. of winning <= 40 items: 0.151307\n",
            "The estimated prob. of winning <= 30 items: 0.003649\n",
            "The estimated prob. of winning <= 20 items: 2.6e-06\n",
            "The estimated prob. of being unlucky as the streamer (<= 11 items): 0\n"
          ]
        },
        {
          "output_type": "execute_result",
          "data": {
            "text/plain": [
              ""
            ]
          },
          "metadata": {},
          "execution_count": 21
        }
      ]
    }
  ]
}