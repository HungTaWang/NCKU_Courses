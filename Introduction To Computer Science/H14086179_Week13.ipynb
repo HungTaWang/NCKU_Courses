{
  "nbformat": 4,
  "nbformat_minor": 0,
  "metadata": {
    "colab": {
      "name": "H14086179_Week13.ipynb",
      "provenance": []
    },
    "kernelspec": {
      "name": "python3",
      "display_name": "Python 3"
    },
    "language_info": {
      "name": "python"
    }
  },
  "cells": [
    {
      "cell_type": "code",
      "execution_count": 3,
      "metadata": {
        "colab": {
          "base_uri": "https://localhost:8080/",
          "height": 0
        },
        "id": "6GRXwVIos11T",
        "outputId": "5ba9de12-cb0c-4818-d18a-8db5671798f7"
      },
      "outputs": [
        {
          "output_type": "stream",
          "name": "stdout",
          "text": [
            "Overwriting Pi.cpp\n"
          ]
        }
      ],
      "source": [
        "%%writefile Pi.cpp\n",
        "#include<iostream>\n",
        "#include<iomanip>\n",
        "#include<cstdlib>\n",
        "#include<ctime>\n",
        "using namespace std;\n",
        "\n",
        "int main(){\n",
        "    double Xi, Yi;\n",
        "    double point_i[2] = {};\n",
        "    double in_circle = 0;\n",
        "    double pi = 0;\n",
        "    srand(time(0));\n",
        "    for(int i = 0;i<=4999999;i++){\n",
        "      Xi = (1.0 - (-1.0)) * rand() / RAND_MAX + (-1.0);\n",
        "      Yi = (1.0 - (-1.0)) * rand() / RAND_MAX + (-1.0);\n",
        "      point_i[0] = Xi;\n",
        "      point_i[1] = Yi;\n",
        "      if(Xi*Xi + Yi*Yi <= 1){\n",
        "          in_circle++;\n",
        "      }\n",
        "    }\n",
        "\n",
        "    pi = in_circle / 5000000 * 4;\n",
        "\n",
        "    cout << \"The Pi is: \" << setprecision(6) << fixed << pi;\n",
        "\n",
        "    return 0;\n",
        "}"
      ]
    },
    {
      "cell_type": "code",
      "source": [
        "%%shell\n",
        "g++ Pi.cpp -o Pi\n",
        "./Pi"
      ],
      "metadata": {
        "colab": {
          "base_uri": "https://localhost:8080/",
          "height": 0
        },
        "id": "lkmEyF28tTvy",
        "outputId": "72487fe0-c715-488c-fa19-65029a765698"
      },
      "execution_count": 6,
      "outputs": [
        {
          "output_type": "stream",
          "name": "stdout",
          "text": [
            "The Pi is: 3.141821"
          ]
        },
        {
          "output_type": "execute_result",
          "data": {
            "text/plain": [
              ""
            ]
          },
          "metadata": {},
          "execution_count": 6
        }
      ]
    }
  ]
}