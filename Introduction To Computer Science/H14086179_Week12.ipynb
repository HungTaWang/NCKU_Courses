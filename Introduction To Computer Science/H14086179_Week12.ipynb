{
  "nbformat": 4,
  "nbformat_minor": 0,
  "metadata": {
    "colab": {
      "name": "H14086179_Week12.ipynb",
      "provenance": [],
      "collapsed_sections": []
    },
    "kernelspec": {
      "name": "python3",
      "display_name": "Python 3"
    },
    "language_info": {
      "name": "python"
    }
  },
  "cells": [
    {
      "cell_type": "code",
      "metadata": {
        "colab": {
          "base_uri": "https://localhost:8080/"
        },
        "id": "KaOH9yVTWgMP",
        "outputId": "01accdab-e79a-4047-9e5f-493ea931fc12"
      },
      "source": [
        "%%writefile W12Sol.cpp\n",
        "#include<iostream>\n",
        "#include<cstdlib>\n",
        "#include<ctime>\n",
        "using namespace std;\n",
        "\n",
        "int Rand[10]; \n",
        "\n",
        "void mySwap(int S[],int i,int j){\n",
        "    if(Rand[i] > Rand[j]){\n",
        "        swap(Rand[i], Rand[j]);\n",
        "    }\n",
        "}\n",
        "\n",
        "int main(){\n",
        "    \n",
        "    srand(time(0));\n",
        "    \n",
        "    cout << \"Ten random numbers: \" ;\n",
        "    \n",
        "    for(int k=0;k<=9;k++){\n",
        "        Rand[k] = 1 + rand()%1000;\n",
        "        cout << Rand[k] << \" \";\n",
        "    }\n",
        "\n",
        "    cout << \"\\nSorted by bubble sorting: \" ;\n",
        "\n",
        "    for(int i=10;i>1;i--){\n",
        "        for(int j=0;j<(i-1);j++){\n",
        "            mySwap(Rand, j, j+1);\n",
        "        }\n",
        "    }\n",
        "    \n",
        "    for(int u=0;u<=9;u++){\n",
        "        cout << Rand[u] << \" \";\n",
        "    }\n",
        "\n",
        "    return 0;\n",
        "}\n"
      ],
      "execution_count": 30,
      "outputs": [
        {
          "output_type": "stream",
          "name": "stdout",
          "text": [
            "Overwriting W12Sol.cpp\n"
          ]
        }
      ]
    },
    {
      "cell_type": "code",
      "metadata": {
        "colab": {
          "base_uri": "https://localhost:8080/"
        },
        "id": "cvSKaOeFZYaF",
        "outputId": "6afd047a-d98a-4a57-a8b3-05cdcbd85a4b"
      },
      "source": [
        "%%shell \n",
        "g++ W12Sol.cpp -o W12Sol\n",
        "./W12Sol"
      ],
      "execution_count": 31,
      "outputs": [
        {
          "output_type": "stream",
          "name": "stdout",
          "text": [
            "Ten random numbers: 881 542 339 889 455 458 593 686 526 637 \n",
            "Sorted by bubble sorting: 339 455 458 526 542 593 637 686 881 889 "
          ]
        },
        {
          "output_type": "execute_result",
          "data": {
            "text/plain": [
              ""
            ]
          },
          "metadata": {},
          "execution_count": 31
        }
      ]
    }
  ]
}