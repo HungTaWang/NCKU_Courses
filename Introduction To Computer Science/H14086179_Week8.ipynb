{
  "nbformat": 4,
  "nbformat_minor": 0,
  "metadata": {
    "colab": {
      "name": "H14086179_Week8.ipynb",
      "provenance": []
    },
    "kernelspec": {
      "name": "python3",
      "display_name": "Python 3"
    },
    "language_info": {
      "name": "python"
    }
  },
  "cells": [
    {
      "cell_type": "markdown",
      "metadata": {
        "id": "asCdh0M3_gFH"
      },
      "source": [
        "Q1 Answer"
      ]
    },
    {
      "cell_type": "code",
      "metadata": {
        "colab": {
          "base_uri": "https://localhost:8080/"
        },
        "id": "H_sct1Jz6mUG",
        "outputId": "11001a00-0601-4851-e61d-97f1db97ab2e"
      },
      "source": [
        "%%writefile Week8Solution.cpp\n",
        "#include<iostream>\n",
        "#include<cstdlib>\n",
        "#include<ctime>\n",
        "using namespace std;\n",
        "\n",
        "int main()\n",
        "{\n",
        "    int guess, answer;\n",
        "    srand(time(0));\n",
        "    answer = 1 + rand()%100;\n",
        "    \n",
        "while (true)\n",
        "  {\n",
        "      cout << \"Input a number between 1 and 100 (inclusive) (Or input -1 to leave): \";\n",
        "      cin >> guess;\n",
        "      if(guess == -1)\n",
        "      {\n",
        "          cout << \"Bye!\";\n",
        "          break;\n",
        "      }\n",
        "      if(guess > answer)\n",
        "      {\n",
        "          cout << \"Lower\\n\";\n",
        "      }\n",
        "      if(guess < answer)\n",
        "      {\n",
        "          cout << \"Higher\\n\";   \n",
        "      }\n",
        "      if(guess == answer)\n",
        "      {\n",
        "          cout << \"You got it, the answer is \" << answer;\n",
        "          break;\n",
        "      }\n",
        "  }\n",
        "    return 0;\n",
        "}"
      ],
      "execution_count": 36,
      "outputs": [
        {
          "output_type": "stream",
          "name": "stdout",
          "text": [
            "Overwriting Week8Solution.cpp\n"
          ]
        }
      ]
    },
    {
      "cell_type": "code",
      "metadata": {
        "colab": {
          "base_uri": "https://localhost:8080/"
        },
        "id": "yT0cf0IL_j37",
        "outputId": "d040416c-aee7-4b55-9333-d328ade58c01"
      },
      "source": [
        "%%shell\n",
        "\n",
        "g++ Week8Solution.cpp -o Week8Solution\n",
        "./Week8Solution"
      ],
      "execution_count": 40,
      "outputs": [
        {
          "output_type": "stream",
          "name": "stdout",
          "text": [
            "Input a number 1 and 100 (inclusive) (Or input -1 to leave): 50\n",
            "Lower\n",
            "Input a number 1 and 100 (inclusive) (Or input -1 to leave): -1\n",
            "Bye!"
          ]
        },
        {
          "output_type": "execute_result",
          "data": {
            "text/plain": [
              ""
            ]
          },
          "metadata": {},
          "execution_count": 40
        }
      ]
    },
    {
      "cell_type": "code",
      "metadata": {
        "colab": {
          "base_uri": "https://localhost:8080/"
        },
        "id": "sL4X6wVw65pS",
        "outputId": "167e52b5-e36a-44e8-e0e2-58977dee8c43"
      },
      "source": [
        "%%shell\n",
        "\n",
        "g++ Week8Solution.cpp -o Week8Solution\n",
        "./Week8Solution"
      ],
      "execution_count": 41,
      "outputs": [
        {
          "output_type": "stream",
          "name": "stdout",
          "text": [
            "Input a number 1 and 100 (inclusive) (Or input -1 to leave): 50\n",
            "Higher\n",
            "Input a number 1 and 100 (inclusive) (Or input -1 to leave): 75\n",
            "Lower\n",
            "Input a number 1 and 100 (inclusive) (Or input -1 to leave): 60\n",
            "Lower\n",
            "Input a number 1 and 100 (inclusive) (Or input -1 to leave): 55\n",
            "Higher\n",
            "Input a number 1 and 100 (inclusive) (Or input -1 to leave): 58\n",
            "Lower\n",
            "Input a number 1 and 100 (inclusive) (Or input -1 to leave): 56\n",
            "You got it, the answer is 56"
          ]
        },
        {
          "output_type": "execute_result",
          "data": {
            "text/plain": [
              ""
            ]
          },
          "metadata": {},
          "execution_count": 41
        }
      ]
    }
  ]
}