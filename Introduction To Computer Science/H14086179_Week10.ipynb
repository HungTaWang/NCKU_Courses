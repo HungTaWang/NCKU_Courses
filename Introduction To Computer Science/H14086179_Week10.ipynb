{
  "nbformat": 4,
  "nbformat_minor": 0,
  "metadata": {
    "colab": {
      "name": " H14086179_Week10.ipynb",
      "provenance": []
    },
    "kernelspec": {
      "name": "python3",
      "display_name": "Python 3"
    },
    "language_info": {
      "name": "python"
    }
  },
  "cells": [
    {
      "cell_type": "code",
      "metadata": {
        "colab": {
          "base_uri": "https://localhost:8080/"
        },
        "id": "QO2A4NKPhFlq",
        "outputId": "b77640a8-4a5f-4309-f2ce-2245eb6d6c95"
      },
      "source": [
        "%%writefile MontyHall.cpp\n",
        "#include<iostream>\n",
        "#include<cstdlib>\n",
        "#include<ctime>\n",
        "using namespace std;\n",
        "\n",
        "int main()\n",
        "{\n",
        "    int door_chosen;\n",
        "    int door_car;\n",
        "    double strategy_a;\n",
        "    double strategy_b;\n",
        "    srand(time(0));\n",
        "  \n",
        "    for(int i=1;i<=5000;i++)\n",
        "    {\n",
        "        door_car = 1 + rand() % 3;\n",
        "        door_chosen = 1 + rand() % 3;\n",
        "\n",
        "        if(door_chosen == door_car)\n",
        "        {\n",
        "            strategy_b++;\n",
        "        }\n",
        "     \n",
        "    }\n",
        " \n",
        "    cout << \"If you do not switch, the prob. of winning is : \"<< strategy_b/5000 << endl;\n",
        " \n",
        "    for(int j=1;j<=5000;j++)\n",
        "    {\n",
        "        door_car = 1 + rand() % 3;\n",
        "        door_chosen = 1 + rand() % 3;\n",
        "\n",
        "        if(door_chosen != door_car) //若第一次沒猜中，因為策略必定換門，所以在接下來的二選一中必定中獎\n",
        "        {\n",
        "            strategy_a++;\n",
        "        }\n",
        "     \n",
        "    }\n",
        " \n",
        "    cout << \"If you switch, the prob. of winning is : \"<< strategy_a/5000 << endl;\n",
        "}"
      ],
      "execution_count": 55,
      "outputs": [
        {
          "output_type": "stream",
          "name": "stdout",
          "text": [
            "Overwriting MontyHall.cpp\n"
          ]
        }
      ]
    },
    {
      "cell_type": "code",
      "metadata": {
        "colab": {
          "base_uri": "https://localhost:8080/"
        },
        "id": "hwEuC-GUhb1S",
        "outputId": "11defb50-11fa-435f-f096-5de9471b6f5b"
      },
      "source": [
        "%%shell\n",
        "\n",
        "g++ MontyHall.cpp -o MontyHall \n",
        "./MontyHall"
      ],
      "execution_count": 58,
      "outputs": [
        {
          "output_type": "stream",
          "name": "stdout",
          "text": [
            "If you do not switch, the prob. of winning is : 0.3288\n",
            "If you switch, the prob. of winning is : 0.6592\n"
          ]
        },
        {
          "output_type": "execute_result",
          "data": {
            "text/plain": [
              ""
            ]
          },
          "metadata": {},
          "execution_count": 58
        }
      ]
    }
  ]
}