{
  "nbformat": 4,
  "nbformat_minor": 0,
  "metadata": {
    "colab": {
      "name": "H14086179_Week11.ipynb",
      "provenance": [],
      "collapsed_sections": []
    },
    "kernelspec": {
      "name": "python3",
      "display_name": "Python 3"
    },
    "language_info": {
      "name": "python"
    }
  },
  "cells": [
    {
      "cell_type": "code",
      "metadata": {
        "colab": {
          "base_uri": "https://localhost:8080/"
        },
        "id": "LbufgufMgdBi",
        "outputId": "a0bc0941-ac11-4c56-d21c-8d623e4c30f3"
      },
      "source": [
        "%%writefile W11Sol_Pi.cpp\n",
        "#include<iostream>\n",
        "#include<iomanip>\n",
        "#include<cmath>\n",
        "using namespace std;\n",
        "\n",
        "double approxPIsquared_iter(int x)\n",
        "{\n",
        "    double a;\n",
        "    double b;\n",
        "    for(int i=1; i<=2*x-1; i+=2)\n",
        "    {\n",
        "        a = 8 / pow(i,2);\n",
        "        b = b + a;\n",
        "    }\n",
        " \n",
        "    return b;\n",
        "}\n",
        "\n",
        "double approxPIsquared_recur(int x)\n",
        "{   \n",
        "    double a;\n",
        "    a = 8/pow((2*x-1),2);\n",
        " \n",
        "    if(x==1)\n",
        "    {\n",
        "        return 8;\n",
        "    }\n",
        "\n",
        "    return a + approxPIsquared_recur(x-1);\n",
        "}\n",
        "\n",
        "int main()\n",
        "{\n",
        "    int x;\n",
        "   \n",
        "    cout << \"How many numbers are in the series?: \";\n",
        "    cin >> x;\n",
        "    \n",
        "    cout << fixed << setprecision(12);\n",
        "    cout << \"(iternative) By including \" << x << \" numbers in the series, the approximated Pi is \" << sqrt(approxPIsquared_iter(x)) << endl;\n",
        "    cout << \"(recursive) By including \" << x << \" numbers in the series, the approximated Pi is \" << sqrt(approxPIsquared_recur(x)) << endl;\n",
        " \n",
        "    return 0;\n",
        "}"
      ],
      "execution_count": 1,
      "outputs": [
        {
          "output_type": "stream",
          "name": "stdout",
          "text": [
            "Writing W11Sol_Pi.cpp\n"
          ]
        }
      ]
    },
    {
      "cell_type": "code",
      "metadata": {
        "colab": {
          "base_uri": "https://localhost:8080/"
        },
        "id": "kBX8OI8NFQjQ",
        "outputId": "2e61c4ac-5b33-4a84-d635-5bc6c45f555a"
      },
      "source": [
        "%%shell\n",
        "\n",
        "g++ W11Sol_Pi.cpp -o W11Sol_Pi\n",
        "./W11Sol_Pi"
      ],
      "execution_count": 2,
      "outputs": [
        {
          "output_type": "stream",
          "name": "stdout",
          "text": [
            "How many numbers are in the series?: 500\n",
            "(iternative) By including 500 numbers in the series, the approximated Pi is 3.140955969514\n",
            "(recursive) By including 500 numbers in the series, the approximated Pi is 3.140955969514\n"
          ]
        },
        {
          "output_type": "execute_result",
          "data": {
            "text/plain": [
              ""
            ]
          },
          "metadata": {},
          "execution_count": 2
        }
      ]
    },
    {
      "cell_type": "code",
      "metadata": {
        "colab": {
          "base_uri": "https://localhost:8080/"
        },
        "id": "pp_Sbb3MNVBF",
        "outputId": "257f5d90-d57f-465c-83e4-7e417f9fc2fc"
      },
      "source": [
        "%%shell\n",
        "\n",
        "g++ W11Sol_Pi.cpp -o W11Sol_Pi\n",
        "./W11Sol_Pi"
      ],
      "execution_count": 3,
      "outputs": [
        {
          "output_type": "stream",
          "name": "stdout",
          "text": [
            "How many numbers are in the series?: 50000\n",
            "(iternative) By including 50000 numbers in the series, the approximated Pi is 3.141586287386\n",
            "(recursive) By including 50000 numbers in the series, the approximated Pi is 3.141586287386\n"
          ]
        },
        {
          "output_type": "execute_result",
          "data": {
            "text/plain": [
              ""
            ]
          },
          "metadata": {},
          "execution_count": 3
        }
      ]
    }
  ]
}