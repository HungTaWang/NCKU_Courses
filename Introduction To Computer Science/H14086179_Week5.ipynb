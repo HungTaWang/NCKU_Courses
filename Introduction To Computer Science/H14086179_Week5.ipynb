{
  "nbformat": 4,
  "nbformat_minor": 0,
  "metadata": {
    "colab": {
      "name": "H14086179_Week5.ipynb",
      "provenance": [],
      "collapsed_sections": []
    },
    "kernelspec": {
      "name": "python3",
      "display_name": "Python 3"
    },
    "language_info": {
      "name": "python"
    }
  },
  "cells": [
    {
      "cell_type": "markdown",
      "metadata": {
        "id": "6v-H471DcWAy"
      },
      "source": [
        "Q1 Answer"
      ]
    },
    {
      "cell_type": "code",
      "metadata": {
        "colab": {
          "base_uri": "https://localhost:8080/"
        },
        "id": "lGManAPGcRHc",
        "outputId": "c4941f25-8a24-467b-f53d-90b53ce48e03"
      },
      "source": [
        "%%writefile W5Solution.cpp\n",
        "\n",
        "#include<iostream>\n",
        "using namespace std;\n",
        "\n",
        "int main()\n",
        "{\n",
        "    int i, j, a, b;\n",
        "    cout << \"Please input the height of your pyramid: \";\n",
        "    cin >> b;\n",
        "    for(a=1; a<=b ; a++)\n",
        "    {   \n",
        "        for(i=1; i<=b-a; i++)\n",
        "        {\n",
        "            cout << \" \";\n",
        "        }\n",
        "        for(j=1; j<=a; j++)\n",
        "        {\n",
        "            cout << \"x\";\n",
        "        }\n",
        "        cout << endl;\n",
        "    }\n",
        " return 0;\n",
        "}"
      ],
      "execution_count": 26,
      "outputs": [
        {
          "output_type": "stream",
          "name": "stdout",
          "text": [
            "Overwriting W5Solution.cpp\n"
          ]
        }
      ]
    },
    {
      "cell_type": "code",
      "metadata": {
        "colab": {
          "base_uri": "https://localhost:8080/"
        },
        "id": "Mzgb3qZCc-_v",
        "outputId": "18432e26-8bd8-4e27-9758-bbe775e05822"
      },
      "source": [
        "%%shell\n",
        "\n",
        "g++ W5Solution.cpp -o W5Solution\n",
        "./W5Solution"
      ],
      "execution_count": 27,
      "outputs": [
        {
          "output_type": "stream",
          "name": "stdout",
          "text": [
            "Please input the height of your pyramid: 6\n",
            "     x\n",
            "    xx\n",
            "   xxx\n",
            "  xxxx\n",
            " xxxxx\n",
            "xxxxxx\n"
          ]
        },
        {
          "output_type": "execute_result",
          "data": {
            "text/plain": [
              ""
            ]
          },
          "metadata": {},
          "execution_count": 27
        }
      ]
    }
  ]
}