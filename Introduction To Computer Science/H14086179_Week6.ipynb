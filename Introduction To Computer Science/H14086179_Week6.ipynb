{
  "nbformat": 4,
  "nbformat_minor": 0,
  "metadata": {
    "colab": {
      "name": "H14086179_Week6.ipynb",
      "provenance": []
    },
    "kernelspec": {
      "display_name": "Python 3",
      "name": "python3"
    },
    "language_info": {
      "name": "python"
    }
  },
  "cells": [
    {
      "cell_type": "markdown",
      "metadata": {
        "id": "hrbmy8Ze4Bww"
      },
      "source": [
        "Q1 Answer: "
      ]
    },
    {
      "cell_type": "code",
      "metadata": {
        "colab": {
          "base_uri": "https://localhost:8080/"
        },
        "id": "m-q5a7SCw0VA",
        "outputId": "f2b20a18-95e6-4747-c9b0-f60ae0807b75"
      },
      "source": [
        "%%writefile Week6Solution.cpp\n",
        "#include<iostream>\n",
        "using namespace std;\n",
        "\n",
        "int main()\n",
        "{\n",
        "    int i, n;\n",
        "  \n",
        "    cout << \"Please input a positive interger: \";\n",
        "    cin >> n;\n",
        " \n",
        "    cout << \"Factors: \";\n",
        "    for(i=1;i<=n;i++)\n",
        "    {\n",
        "        if(n % i == 0)\n",
        "        {\n",
        "            if(i == 1 or i == n)\n",
        "            {\n",
        "                continue;\n",
        "            }\n",
        "            cout << i << \" \";       \n",
        "        }\n",
        "    }\n",
        " \n",
        " return 0;\n",
        "}"
      ],
      "execution_count": 20,
      "outputs": [
        {
          "output_type": "stream",
          "name": "stdout",
          "text": [
            "Overwriting Week6Solution.cpp\n"
          ]
        }
      ]
    },
    {
      "cell_type": "code",
      "metadata": {
        "colab": {
          "base_uri": "https://localhost:8080/"
        },
        "id": "IJ7Imc5Ox_GK",
        "outputId": "42dfb313-6245-4ef7-d4e9-510f4b3c38f8"
      },
      "source": [
        "%%shell\n",
        "\n",
        "g++ Week6Solution.cpp -o Week6Solution\n",
        "./Week6Solution"
      ],
      "execution_count": 21,
      "outputs": [
        {
          "output_type": "stream",
          "name": "stdout",
          "text": [
            "Please input a positive interger: 100\n",
            "Factors: 2 4 5 10 20 25 50 "
          ]
        },
        {
          "output_type": "execute_result",
          "data": {
            "text/plain": [
              ""
            ]
          },
          "metadata": {},
          "execution_count": 21
        }
      ]
    }
  ]
}