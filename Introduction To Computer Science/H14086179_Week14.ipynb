{
  "nbformat": 4,
  "nbformat_minor": 0,
  "metadata": {
    "colab": {
      "name": "H14086179_Week14.ipynb",
      "provenance": [],
      "collapsed_sections": []
    },
    "kernelspec": {
      "name": "python3",
      "display_name": "Python 3"
    },
    "language_info": {
      "name": "python"
    }
  },
  "cells": [
    {
      "cell_type": "code",
      "execution_count": 8,
      "metadata": {
        "colab": {
          "base_uri": "https://localhost:8080/"
        },
        "id": "bZJw9UXiz116",
        "outputId": "e0a8d31c-9805-4898-c0a3-9ee97312ec53"
      },
      "outputs": [
        {
          "output_type": "stream",
          "name": "stdout",
          "text": [
            "Overwriting Week14.cpp\n"
          ]
        }
      ],
      "source": [
        "%%writefile Week14.cpp\n",
        "#include<iostream>\n",
        "#include<iomanip>\n",
        "using namespace std;\n",
        "\n",
        "void MyMatrix(int *a, int n);\n",
        "void MyMultiple(int *a, int n);\n",
        "\n",
        "int main(){\n",
        "    int n;\n",
        "    cout << \"Please enter a number n to build a matrix A: \";\n",
        "    cin >> n;\n",
        "    int a[n][n] = {0};\n",
        "    \n",
        "    for(int i=0;i<n;i++){\n",
        "        for(int j=0;j<n;j++){\n",
        "            a[i][j] = i * n + j + 1;\n",
        "        }\n",
        "    }\n",
        "    MyMatrix((int*)a, n);\n",
        "\n",
        "    cout << \"\\nMatrix A multiplied by it self: \\n\";\n",
        "    MyMultiple((int*)a, n);\n",
        "}\n",
        "\n",
        "void MyMatrix(int *a, int n){\n",
        "    for(int i=0;i<n;i++){\n",
        "        for(int j=0;j<n;j++){\n",
        "            cout << setw(5) << *(a+i*n+j) << \"\\t\";\n",
        "        }\n",
        "        cout << endl;\n",
        "    }\n",
        "}\n",
        "\n",
        "void MyMultiple(int *a, int n){\n",
        "    int b[n][n] = {};\n",
        "    int c[n][n] = {};\n",
        "\n",
        "    for(int i=0;i<n;i++){\n",
        "        for(int j=0;j<n;j++){\n",
        "           b[i][j] = *(a+i*n+j);\n",
        "        }\n",
        "    }\n",
        "    for(int i=0;i<n;i++){\n",
        "        for(int j=0;j<n;j++){\n",
        "            for(int k=0;k<n;k++){\n",
        "                c[i][j] += *(a+i*n+k) * b[k][j];\n",
        "            }\n",
        "        }\n",
        "    }\n",
        "\n",
        "    MyMatrix((int*)c, n);\n",
        "}"
      ]
    },
    {
      "cell_type": "code",
      "source": [
        "%%shell\n",
        "g++ Week14.cpp -o Week14\n",
        "./Week14"
      ],
      "metadata": {
        "colab": {
          "base_uri": "https://localhost:8080/"
        },
        "id": "dBqhHRRN1sce",
        "outputId": "1d3d1c68-b586-4f7e-86d2-920c0b1c6d06"
      },
      "execution_count": 9,
      "outputs": [
        {
          "output_type": "stream",
          "name": "stdout",
          "text": [
            "Please enter a number n to build a matrix A: 2\n",
            "    1\t    2\t\n",
            "    3\t    4\t\n",
            "\n",
            "Matrix A multiplied by it self: \n",
            "    7\t   10\t\n",
            "   15\t   22\t\n"
          ]
        },
        {
          "output_type": "execute_result",
          "data": {
            "text/plain": [
              ""
            ]
          },
          "metadata": {},
          "execution_count": 9
        }
      ]
    },
    {
      "cell_type": "code",
      "source": [
        "%%shell\n",
        "g++ Week14.cpp -o Week14\n",
        "./Week14"
      ],
      "metadata": {
        "colab": {
          "base_uri": "https://localhost:8080/"
        },
        "id": "XsLJaevjNld1",
        "outputId": "4434adac-9126-4ca4-b245-a338a9ccb0b9"
      },
      "execution_count": 10,
      "outputs": [
        {
          "output_type": "stream",
          "name": "stdout",
          "text": [
            "Please enter a number n to build a matrix A: 3\n",
            "    1\t    2\t    3\t\n",
            "    4\t    5\t    6\t\n",
            "    7\t    8\t    9\t\n",
            "\n",
            "Matrix A multiplied by it self: \n",
            "   30\t   36\t   42\t\n",
            "   66\t   81\t   96\t\n",
            "  102\t  126\t  150\t\n"
          ]
        },
        {
          "output_type": "execute_result",
          "data": {
            "text/plain": [
              ""
            ]
          },
          "metadata": {},
          "execution_count": 10
        }
      ]
    }
  ]
}