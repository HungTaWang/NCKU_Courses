{
  "nbformat": 4,
  "nbformat_minor": 0,
  "metadata": {
    "colab": {
      "name": "H14086179_Week4.ipynb",
      "provenance": [],
      "collapsed_sections": []
    },
    "kernelspec": {
      "name": "python3",
      "display_name": "Python 3"
    },
    "language_info": {
      "name": "python"
    }
  },
  "cells": [
    {
      "cell_type": "markdown",
      "metadata": {
        "id": "2F14_VDXnIDT"
      },
      "source": [
        "Q1 Answer:"
      ]
    },
    {
      "cell_type": "code",
      "metadata": {
        "id": "b6RZR1PAlC9A",
        "colab": {
          "base_uri": "https://localhost:8080/"
        },
        "outputId": "60ae420b-d927-4dab-8b01-9435797fb49b"
      },
      "source": [
        "%%writefile W4Solution.cpp\n",
        "\n",
        "#include<iostream>\n",
        "using namespace std;\n",
        "\n",
        "int main()\n",
        "{\n",
        "    int Fn, n=2, Fn_1=1, Fn_2=0;\n",
        " while(n <= 20)\n",
        " {\n",
        "    Fn = Fn_1 + Fn_2;\n",
        "    cout << \"F\" << n << \"=\" << Fn << endl; \n",
        "    Fn_2 = Fn_1;\n",
        "    Fn_1 = Fn;\n",
        "    n += 1;\n",
        " } \n",
        "    return 0;\n",
        "}"
      ],
      "execution_count": 49,
      "outputs": [
        {
          "output_type": "stream",
          "name": "stdout",
          "text": [
            "Overwriting W4Solution.cpp\n"
          ]
        }
      ]
    },
    {
      "cell_type": "code",
      "metadata": {
        "colab": {
          "base_uri": "https://localhost:8080/"
        },
        "id": "87Qhl5CLnjxH",
        "outputId": "4b00da00-6e1f-4fb3-f435-22c638c49fb8"
      },
      "source": [
        "%%shell\n",
        "\n",
        "g++ W4Solution.cpp -o W4Solution\n",
        "./W4Solution"
      ],
      "execution_count": 51,
      "outputs": [
        {
          "output_type": "stream",
          "name": "stdout",
          "text": [
            "F2=1\n",
            "F3=2\n",
            "F4=3\n",
            "F5=5\n",
            "F6=8\n",
            "F7=13\n",
            "F8=21\n",
            "F9=34\n",
            "F10=55\n",
            "F11=89\n",
            "F12=144\n",
            "F13=233\n",
            "F14=377\n",
            "F15=610\n",
            "F16=987\n",
            "F17=1597\n",
            "F18=2584\n",
            "F19=4181\n",
            "F20=6765\n"
          ]
        },
        {
          "output_type": "execute_result",
          "data": {
            "text/plain": [
              ""
            ]
          },
          "metadata": {},
          "execution_count": 51
        }
      ]
    }
  ]
}