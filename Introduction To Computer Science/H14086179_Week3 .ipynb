{
  "nbformat": 4,
  "nbformat_minor": 0,
  "metadata": {
    "colab": {
      "name": "H14086179_Week3.ipynb",
      "provenance": [],
      "collapsed_sections": []
    },
    "kernelspec": {
      "name": "python3",
      "display_name": "Python 3"
    },
    "language_info": {
      "name": "python"
    }
  },
  "cells": [
    {
      "cell_type": "markdown",
      "metadata": {
        "id": "aQy0w_s7lzBv"
      },
      "source": [
        "Q1 Answer:"
      ]
    },
    {
      "cell_type": "code",
      "metadata": {
        "colab": {
          "base_uri": "https://localhost:8080/"
        },
        "id": "UrN48r8Dqx8a",
        "outputId": "6254dfc4-5e9f-475a-9b5a-f23c2a66c809"
      },
      "source": [
        "%%writefile W3solution.cpp\n",
        "\n",
        "#include<iostream>\n",
        "using namespace std;\n",
        "\n",
        "int main()\n",
        "{\n",
        "    int Year;\n",
        " \n",
        "    cout << \"Input a four digits AD year: \";\n",
        "\n",
        "    cin >> Year;\n",
        " \n",
        "    if(Year > 9999 or Year < 1000)\n",
        "    {\n",
        "        cout << \"Wrong input!\" << endl;\n",
        "    }\n",
        "    else if(Year % 400 == 0)\n",
        "    {\n",
        "        cout << \"Leap year\" << endl;\n",
        "    } \n",
        "    else if(Year % 4 == 0 and Year % 100 != 0)\n",
        "    {\n",
        "        cout << \"Leap year\" << endl;\n",
        "    } \n",
        "    else\n",
        "    {\n",
        "        cout << \"Common year\" << endl;\n",
        "    } \n",
        " \n",
        "    return 0;\n",
        "}"
      ],
      "execution_count": 3,
      "outputs": [
        {
          "output_type": "stream",
          "name": "stdout",
          "text": [
            "Writing W3solution.cpp\n"
          ]
        }
      ]
    },
    {
      "cell_type": "code",
      "metadata": {
        "colab": {
          "base_uri": "https://localhost:8080/"
        },
        "id": "K8kf2LP_rD0x",
        "outputId": "f2266e73-db3f-49ea-97b9-aeeffa2ea80b"
      },
      "source": [
        "%%shell\n",
        "\n",
        "g++ W3solution.cpp -o W3solution\n",
        "./W3solution"
      ],
      "execution_count": 8,
      "outputs": [
        {
          "output_type": "stream",
          "name": "stdout",
          "text": [
            "Input a four digits AD year: 128\n",
            "Wrong input!\n"
          ]
        },
        {
          "output_type": "execute_result",
          "data": {
            "text/plain": [
              ""
            ]
          },
          "metadata": {},
          "execution_count": 8
        }
      ]
    },
    {
      "cell_type": "code",
      "metadata": {
        "colab": {
          "base_uri": "https://localhost:8080/"
        },
        "id": "_cCBWUm3mqH3",
        "outputId": "9d02f8e0-5c89-4a03-fc07-1d0a9a9d4b3a"
      },
      "source": [
        "%%shell\n",
        "\n",
        "g++ W3solution.cpp -o W3solution\n",
        "./W3solution"
      ],
      "execution_count": 9,
      "outputs": [
        {
          "output_type": "stream",
          "name": "stdout",
          "text": [
            "Input a four digits AD year: 1100\n",
            "Common year\n"
          ]
        },
        {
          "output_type": "execute_result",
          "data": {
            "text/plain": [
              ""
            ]
          },
          "metadata": {},
          "execution_count": 9
        }
      ]
    },
    {
      "cell_type": "code",
      "metadata": {
        "colab": {
          "base_uri": "https://localhost:8080/"
        },
        "id": "BV-Ud_F7mqqR",
        "outputId": "64580ce2-3ca2-41b8-b0bd-9644b6b7e5ab"
      },
      "source": [
        "%%shell\n",
        "\n",
        "g++ W3solution.cpp -o W3solution\n",
        "./W3solution"
      ],
      "execution_count": 10,
      "outputs": [
        {
          "output_type": "stream",
          "name": "stdout",
          "text": [
            "Input a four digits AD year: 1200\n",
            "Leap year\n"
          ]
        },
        {
          "output_type": "execute_result",
          "data": {
            "text/plain": [
              ""
            ]
          },
          "metadata": {},
          "execution_count": 10
        }
      ]
    },
    {
      "cell_type": "code",
      "metadata": {
        "colab": {
          "base_uri": "https://localhost:8080/"
        },
        "id": "UsWwX81umqxH",
        "outputId": "d1fdc7f7-781a-4651-de39-b7a3e51a67b6"
      },
      "source": [
        "%%shell\n",
        "\n",
        "g++ W3solution.cpp -o W3solution\n",
        "./W3solution"
      ],
      "execution_count": 11,
      "outputs": [
        {
          "output_type": "stream",
          "name": "stdout",
          "text": [
            "Input a four digits AD year: 1616\n",
            "Leap year\n"
          ]
        },
        {
          "output_type": "execute_result",
          "data": {
            "text/plain": [
              ""
            ]
          },
          "metadata": {},
          "execution_count": 11
        }
      ]
    }
  ]
}