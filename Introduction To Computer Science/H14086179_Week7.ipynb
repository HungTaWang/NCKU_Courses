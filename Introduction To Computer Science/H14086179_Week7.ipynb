{
  "nbformat": 4,
  "nbformat_minor": 0,
  "metadata": {
    "colab": {
      "name": "H14086179_Week7.ipynb",
      "provenance": [],
      "collapsed_sections": []
    },
    "kernelspec": {
      "name": "python3",
      "display_name": "Python 3"
    },
    "language_info": {
      "name": "python"
    }
  },
  "cells": [
    {
      "cell_type": "markdown",
      "metadata": {
        "id": "KXM7Rv_1x4Mu"
      },
      "source": [
        "Q1 Answer: "
      ]
    },
    {
      "cell_type": "code",
      "metadata": {
        "colab": {
          "base_uri": "https://localhost:8080/"
        },
        "id": "bJr-KS_WwCP8",
        "outputId": "d391c553-a180-44af-e91c-7cfb512cb723"
      },
      "source": [
        "%%writefile Week7Solution.cpp\n",
        "#include<iostream>\n",
        "using namespace std;\n",
        "\n",
        "bool isPrime(int);\n",
        "\n",
        "int main()\n",
        "{\n",
        "    int n;\n",
        "    bool flag;\n",
        "    cout << \"Please input a positive integer: \";\n",
        "    cin >> n;\n",
        "    cout << \"Prime factors: \" ;\n",
        "    for(int i=2; i<n; i++)\n",
        "    {\n",
        "        if(n % i == 0)\n",
        "        {\n",
        "            flag = isPrime(i);\n",
        "            if(flag == true)\n",
        "            {\n",
        "                cout << i <<\" \";\n",
        "            }\n",
        "        }\n",
        "    }\n",
        "}\n",
        "\n",
        "bool isPrime(int i)\n",
        "{\n",
        "    int j = 2;\n",
        "    bool flag = true;\n",
        "    while(j <= i-1 and flag==true)\n",
        "    {\n",
        "        if (i % j == 0)\n",
        "        {\n",
        "            flag = false;\n",
        "            break;\n",
        "        }\n",
        "     j++;\n",
        "    }\n",
        "return flag;\n",
        "}"
      ],
      "execution_count": null,
      "outputs": [
        {
          "output_type": "stream",
          "name": "stdout",
          "text": [
            "Writing Week7Solution.cpp\n"
          ]
        }
      ]
    },
    {
      "cell_type": "code",
      "metadata": {
        "colab": {
          "base_uri": "https://localhost:8080/"
        },
        "id": "eCNv2JNSyXRQ",
        "outputId": "2398987f-ee04-4fbb-c2dc-b1c5f9b597eb"
      },
      "source": [
        "%%shell\n",
        "\n",
        "g++ Week7Solution.cpp -o Week7Solution\n",
        "./Week7Solution"
      ],
      "execution_count": null,
      "outputs": [
        {
          "output_type": "stream",
          "name": "stdout",
          "text": [
            "Please input a positive integer: 100\n",
            "Prime factors: 2 5 "
          ]
        },
        {
          "output_type": "execute_result",
          "data": {
            "text/plain": [
              ""
            ]
          },
          "metadata": {},
          "execution_count": 5
        }
      ]
    },
    {
      "cell_type": "code",
      "metadata": {
        "colab": {
          "base_uri": "https://localhost:8080/"
        },
        "id": "dyiBI1Hx3NeQ",
        "outputId": "460efff4-2c77-4c83-8fe7-93844f47efeb"
      },
      "source": [
        "%%shell\n",
        "\n",
        "g++ Week7Solution.cpp -o Week7Solution\n",
        "./Week7Solution"
      ],
      "execution_count": null,
      "outputs": [
        {
          "output_type": "stream",
          "name": "stdout",
          "text": [
            "Please input a positive integer: 323\n",
            "Prime factors: 17 19 "
          ]
        },
        {
          "output_type": "execute_result",
          "data": {
            "text/plain": [
              ""
            ]
          },
          "metadata": {},
          "execution_count": 6
        }
      ]
    }
  ]
}